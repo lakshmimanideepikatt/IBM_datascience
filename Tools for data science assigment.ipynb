{
    "cells": [
        {
            "cell_type": "markdown",
            "metadata": {
                "collapsed": true
            },
            "source": "# My Jupyter Notebook on IBM Watson studio"
        },
        {
            "cell_type": "markdown",
            "metadata": {},
            "source": "**Mani Deepika**<br></br>\nI want to be a data scientist"
        },
        {
            "cell_type": "markdown",
            "metadata": {},
            "source": "*I am interested in data science because it makes you able to perform many instructions and play with data*"
        },
        {
            "cell_type": "markdown",
            "metadata": {},
            "source": "### I multiply two numbers"
        },
        {
            "cell_type": "code",
            "execution_count": 3,
            "metadata": {},
            "outputs": [
                {
                    "data": {
                        "text/plain": "10"
                    },
                    "execution_count": 3,
                    "metadata": {},
                    "output_type": "execute_result"
                }
            ],
            "source": "2*5"
        },
        {
            "cell_type": "markdown",
            "metadata": {},
            "source": "1. one\n2. two<br></br>\n\u22c5\u22c5* Unordered\n1. three...<br></br>\n\u22c5\u22c51. subone<br></br>\n[I am an hyper link](www.google.com)"
        }
    ],
    "metadata": {
        "kernelspec": {
            "display_name": "Python 3.6",
            "language": "python",
            "name": "python3"
        },
        "language_info": {
            "codemirror_mode": {
                "name": "ipython",
                "version": 3
            },
            "file_extension": ".py",
            "mimetype": "text/x-python",
            "name": "python",
            "nbconvert_exporter": "python",
            "pygments_lexer": "ipython3",
            "version": "3.6.9"
        }
    },
    "nbformat": 4,
    "nbformat_minor": 1
}